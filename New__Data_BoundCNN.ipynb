{
  "nbformat": 4,
  "nbformat_minor": 0,
  "metadata": {
    "kernelspec": {
      "display_name": "Python 3",
      "language": "python",
      "name": "python3"
    },
    "language_info": {
      "codemirror_mode": {
        "name": "ipython",
        "version": 3
      },
      "file_extension": ".py",
      "mimetype": "text/x-python",
      "name": "python",
      "nbconvert_exporter": "python",
      "pygments_lexer": "ipython3",
      "version": "3.7.4"
    },
    "colab": {
      "name": "New__Data_BoundCNN.ipynb",
      "provenance": [],
      "collapsed_sections": []
    },
    "accelerator": "GPU"
  },
  "cells": [
    {
      "cell_type": "code",
      "metadata": {
        "id": "qxTywqpFCsmN",
        "colab_type": "code",
        "colab": {}
      },
      "source": [
        "from google.colab import drive\n",
        "drive.mount('/content/drive/')"
      ],
      "execution_count": null,
      "outputs": []
    },
    {
      "cell_type": "code",
      "metadata": {
        "id": "TAwYkPpOGc_2",
        "colab_type": "code",
        "colab": {}
      },
      "source": [
        "import sys\n",
        "#sys.path.append('/content/gdrive/mypythondirectory')\n",
        "\n",
        "sys.path.append('/content/drive/My Drive/Msc. Project Files/BoundCNN/')\n"
      ],
      "execution_count": 2,
      "outputs": []
    },
    {
      "cell_type": "code",
      "metadata": {
        "id": "YIuiE9CLCg8F",
        "colab_type": "code",
        "colab": {}
      },
      "source": [
        "import numpy as np\n",
        "import matplotlib.pyplot as pyplot\n",
        "import pandas as pd\n",
        "import sklearn\n",
        "\n",
        "\n",
        "\n",
        "import keras\n",
        "from keras import layers\n",
        "from keras import regularizers\n",
        "from keras.models import Sequential, Model\n",
        "\n",
        "from keras.layers import Dense, Activation, Dropout, Flatten, Input, Embedding, LSTM\n",
        "from keras.optimizers import SGD, Adam\n",
        "from keras.layers import Conv1D, MaxPooling1D, Embedding\n",
        "from keras.layers.normalization import BatchNormalization\n",
        "from keras.callbacks import TensorBoard, ModelCheckpoint, LearningRateScheduler\n",
        "import time\n",
        "\n",
        "\n",
        "\n",
        "\n",
        "#from time import time\n",
        "#from tensorflow.python.keras.callbacks import TensorBoard\n",
        "#from keras.callbacks import TensorBoard\n",
        "\n",
        "import Quipu\n",
        "from Quipu.kerasHelpers import resetHistory, nextEpochNo\n",
        "from Quipu.tools import normaliseLength\n",
        "from Quipu import augment\n",
        "\n",
        "\n",
        "from tensorflow.python.client import device_lib\n",
        "import tensorflow as tf\n",
        "tf.test.gpu_device_name()\n",
        "print(device_lib.list_local_devices())\n"
      ],
      "execution_count": null,
      "outputs": []
    },
    {
      "cell_type": "code",
      "metadata": {
        "id": "QJaqC6W1Cg8S",
        "colab_type": "code",
        "colab": {}
      },
      "source": [
        "from scipy.io import loadmat\n",
        "\n",
        "x1 = loadmat('/content/drive/My Drive/Msc. Project Files/BoundCNN/data/0.01-Unbound/1-translocsimu-tsr_m=0.01-Unbound_1.mat')\n",
        "x2 = loadmat('/content/drive/My Drive/Msc. Project Files/BoundCNN/data/0.01-Unbound/2-translocsimu-tsr_m=0.01-Unbound_1.mat')\n",
        "x3 = loadmat('/content/drive/My Drive/Msc. Project Files/BoundCNN/data/0.01-Unbound/3-translocsimu-tsr_m=0.01-Unbound_1.mat')\n",
        "x4 = loadmat('/content/drive/My Drive/Msc. Project Files/BoundCNN/data/0.01-Unbound/4-translocsimu-tsr_m=0.01-Unbound_1.mat')\n",
        "x5 = loadmat('/content/drive/My Drive/Msc. Project Files/BoundCNN/data/0.01-Unbound/5-translocsimu-tsr_m=0.01-Unbound_1.mat')\n",
        "x6 = loadmat('/content/drive/My Drive/Msc. Project Files/BoundCNN/data/0.01-Unbound/6-translocsimu-tsr_m=0.01-Unbound_1.mat')\n",
        "x7 = loadmat('/content/drive/My Drive/Msc. Project Files/BoundCNN/data/0.01-Unbound/7-translocsimu-tsr_m=0.01-Unbound_1.mat')\n",
        "x8 = loadmat('/content/drive/My Drive/Msc. Project Files/BoundCNN/data/0.01-Unbound/8-translocsimu-tsr_m=0.01-Unbound_1.mat')\n",
        "x9 = loadmat('/content/drive/My Drive/Msc. Project Files/BoundCNN/data/0.01-Unbound/9-translocsimu-tsr_m=0.01-Unbound_1.mat')\n",
        "x10 = loadmat('/content/drive/My Drive/Msc. Project Files/BoundCNN/data/0.01-Unbound/10-translocsimu-tsr_m=0.01-Unbound_1.mat')\n",
        "\n",
        "\n",
        "y1 = loadmat('/content/drive/My Drive/Msc. Project Files/BoundCNN/data/Is_m/6e-11/1-translocsimu-tsr_m=0.07-Bound_1.mat')\n",
        "y2 = loadmat('/content/drive/My Drive/Msc. Project Files/BoundCNN/data/Is_m/6e-11/2-translocsimu-tsr_m=0.07-Bound_1.mat')\n",
        "y3 = loadmat('/content/drive/My Drive/Msc. Project Files/BoundCNN/data/Is_m/6e-11/3-translocsimu-tsr_m=0.07-Bound_1.mat')\n",
        "y4 = loadmat('/content/drive/My Drive/Msc. Project Files/BoundCNN/data/Is_m/6e-11/4-translocsimu-tsr_m=0.07-Bound_1.mat')\n",
        "y5 = loadmat('/content/drive/My Drive/Msc. Project Files/BoundCNN/data/Is_m/6e-11/5-translocsimu-tsr_m=0.07-Bound_1.mat')\n",
        "y6 = loadmat('/content/drive/My Drive/Msc. Project Files/BoundCNN/data/Is_m/6e-11/6-translocsimu-tsr_m=0.07-Bound_1.mat')\n",
        "y7 = loadmat('/content/drive/My Drive/Msc. Project Files/BoundCNN/data/Is_m/6e-11/7-translocsimu-tsr_m=0.07-Bound_1.mat')\n",
        "y8 = loadmat('/content/drive/My Drive/Msc. Project Files/BoundCNN/data/Is_m/6e-11/8-translocsimu-tsr_m=0.07-Bound_1.mat')\n",
        "y9 = loadmat('/content/drive/My Drive/Msc. Project Files/BoundCNN/data/Is_m/6e-11/9-translocsimu-tsr_m=0.07-Bound_1.mat')\n",
        "y10 = loadmat('/content/drive/My Drive/Msc. Project Files/BoundCNN/data/Is_m/6e-11/10-translocsimu-tsr_m=0.07-Bound_1.mat')\n"
      ],
      "execution_count": 50,
      "outputs": []
    },
    {
      "cell_type": "code",
      "metadata": {
        "id": "wBfw9nBFCg8e",
        "colab_type": "code",
        "colab": {}
      },
      "source": [
        "ch2_Unbound1 = x1['ch2']\n",
        "ch2_Unbound2 = x2['ch2']\n",
        "ch2_Unbound3 = x3['ch2']\n",
        "ch2_Unbound4 = x4['ch2']\n",
        "ch2_Unbound5 = x5['ch2']\n",
        "ch2_Unbound6 = x6['ch2']\n",
        "ch2_Unbound7 = x7['ch2']\n",
        "ch2_Unbound8 = x8['ch2']\n",
        "ch2_Unbound9 = x9['ch2']\n",
        "ch2_Unbound10 = x10['ch2']\n",
        "\n",
        "ch2_Bound1 = y1['ch2']\n",
        "ch2_Bound2 = y2['ch2']\n",
        "ch2_Bound3 = y3['ch2']\n",
        "ch2_Bound4 = y4['ch2']\n",
        "ch2_Bound5 = y5['ch2']\n",
        "ch2_Bound6 = y6['ch2']\n",
        "ch2_Bound7 = y7['ch2']\n",
        "ch2_Bound8 = y8['ch2']\n",
        "ch2_Bound9 = y9['ch2']\n",
        "ch2_Bound10 = y10['ch2']\n"
      ],
      "execution_count": 51,
      "outputs": []
    },
    {
      "cell_type": "code",
      "metadata": {
        "id": "JZtubsbJM_jg",
        "colab_type": "code",
        "colab": {}
      },
      "source": [
        "ch2_Unbound = np.concatenate((ch2_Unbound1, ch2_Unbound2, ch2_Unbound3, ch2_Unbound4, ch2_Unbound5, ch2_Unbound6, ch2_Unbound7, ch2_Unbound8, ch2_Unbound9, ch2_Unbound10), axis=0)"
      ],
      "execution_count": 52,
      "outputs": []
    },
    {
      "cell_type": "code",
      "metadata": {
        "id": "4b28VYzMUN0n",
        "colab_type": "code",
        "colab": {}
      },
      "source": [
        "ch2_Bound = np.concatenate((ch2_Bound1, ch2_Bound2, ch2_Bound3, ch2_Bound4, ch2_Bound5, ch2_Bound6, ch2_Bound7, ch2_Bound8, ch2_Bound9, ch2_Bound10), axis=0)"
      ],
      "execution_count": 53,
      "outputs": []
    },
    {
      "cell_type": "code",
      "metadata": {
        "id": "5iIIJQTxT9UC",
        "colab_type": "code",
        "colab": {
          "base_uri": "https://localhost:8080/",
          "height": 52
        },
        "outputId": "0e7b6ee3-8e4e-430b-cb0e-28caff7aa042"
      },
      "source": [
        "print(len(ch2_Unbound))\n",
        "print(len(ch2_Bound))\n"
      ],
      "execution_count": 54,
      "outputs": [
        {
          "output_type": "stream",
          "text": [
            "100000000\n",
            "100000000\n"
          ],
          "name": "stdout"
        }
      ]
    },
    {
      "cell_type": "code",
      "metadata": {
        "id": "41fXKgm3pdGd",
        "colab_type": "code",
        "colab": {}
      },
      "source": [
        "ch2_Bound = ch2_Bound[ch2_Bound[:] > 0.5*pow(10, -10)] "
      ],
      "execution_count": 55,
      "outputs": []
    },
    {
      "cell_type": "code",
      "metadata": {
        "id": "SJyDOBn-YilB",
        "colab_type": "code",
        "colab": {}
      },
      "source": [
        "ch2_Unbound = ch2_Unbound[ch2_Unbound[:] > 0.5*pow(10, -10)] "
      ],
      "execution_count": 56,
      "outputs": []
    },
    {
      "cell_type": "code",
      "metadata": {
        "id": "v305al3AtsbT",
        "colab_type": "code",
        "colab": {}
      },
      "source": [
        "# Hyperparameters\n",
        "\n",
        "hp = {\n",
        "    \"traceLength\" : 1100, \n",
        "}\n",
        "\n"
      ],
      "execution_count": 57,
      "outputs": []
    },
    {
      "cell_type": "code",
      "metadata": {
        "id": "81mGFu71FcfP",
        "colab_type": "code",
        "colab": {
          "base_uri": "https://localhost:8080/",
          "height": 52
        },
        "outputId": "3bf6fea5-b789-49d8-d2db-a23e15e91c9c"
      },
      "source": [
        "print(len(ch2_Bound))\n",
        "print(len(ch2_Unbound))"
      ],
      "execution_count": 58,
      "outputs": [
        {
          "output_type": "stream",
          "text": [
            "990747\n",
            "991371\n"
          ],
          "name": "stdout"
        }
      ]
    },
    {
      "cell_type": "code",
      "metadata": {
        "id": "OiyDLEbj1MHe",
        "colab_type": "code",
        "colab": {}
      },
      "source": [
        "ch2_Bound = ch2_Bound[:len(ch2_Bound)-(len(ch2_Bound)%hp[\"traceLength\"])]\n",
        "ch2_Bound = ch2_Bound.reshape(-1,hp[\"traceLength\"])\n",
        "ch2_Unbound = ch2_Unbound[:len(ch2_Unbound)-(len(ch2_Unbound)%hp[\"traceLength\"])]\n",
        "ch2_Unbound = ch2_Unbound.reshape(-1,hp[\"traceLength\"])\n",
        "\n"
      ],
      "execution_count": 59,
      "outputs": []
    },
    {
      "cell_type": "code",
      "metadata": {
        "id": "cE8GA27_pETj",
        "colab_type": "code",
        "colab": {}
      },
      "source": [
        "TotalDatas = np.concatenate((ch2_Bound, ch2_Unbound), axis=0)"
      ],
      "execution_count": 60,
      "outputs": []
    },
    {
      "cell_type": "code",
      "metadata": {
        "id": "_VYFxwA4NvTw",
        "colab_type": "code",
        "colab": {
          "base_uri": "https://localhost:8080/",
          "height": 34
        },
        "outputId": "bd76512f-f821-43d6-e4ff-abf829f84761"
      },
      "source": [
        "len(TotalDatas)"
      ],
      "execution_count": 61,
      "outputs": [
        {
          "output_type": "execute_result",
          "data": {
            "text/plain": [
              "1801"
            ]
          },
          "metadata": {
            "tags": []
          },
          "execution_count": 61
        }
      ]
    },
    {
      "cell_type": "code",
      "metadata": {
        "id": "jZSlymQC3b2T",
        "colab_type": "code",
        "colab": {}
      },
      "source": [
        "y_total00 = np.zeros((len(ch2_Unbound),1))   \n",
        "y_total11 = np.ones((len(ch2_Bound),1))  \n",
        "y_total10 = np.concatenate((y_total11, y_total00), axis=0)\n"
      ],
      "execution_count": 62,
      "outputs": []
    },
    {
      "cell_type": "code",
      "metadata": {
        "id": "U2P0K1kHCg-i",
        "colab_type": "code",
        "colab": {}
      },
      "source": [
        "\n",
        "from sklearn.model_selection import train_test_split\n",
        "X_train_1, X_test, Y_train_1, Y_test = train_test_split(TotalDatas, y_total10, test_size=0.2) #, random_state=1\n",
        "X_train, X_val, Y_train, Y_val   = train_test_split(X_train_1, Y_train_1, test_size=0.25) # 0.25 x 0.8 = 0.2\n",
        "\n",
        "\n"
      ],
      "execution_count": 63,
      "outputs": []
    },
    {
      "cell_type": "code",
      "metadata": {
        "id": "STYseuUqFg8L",
        "colab_type": "code",
        "colab": {}
      },
      "source": [
        "X_train -= np.mean(X_train, axis= 0)\n",
        "X_train /= np.std(X_train, axis = 0)\n",
        "X_val -= np.mean(X_val, axis= 0)\n",
        "X_val /= np.std(X_val, axis = 0)\n",
        "X_test -= np.mean(X_test, axis= 0)\n",
        "X_test /= np.std(X_test, axis = 0)"
      ],
      "execution_count": 64,
      "outputs": []
    },
    {
      "cell_type": "code",
      "metadata": {
        "id": "9LCxOjuwCg_p",
        "colab_type": "code",
        "colab": {
          "base_uri": "https://localhost:8080/",
          "height": 121
        },
        "outputId": "ab2fad5b-4ecc-45f7-944a-030f59f27f62"
      },
      "source": [
        "print(len(X_train))\n",
        "print(len(X_val))\n",
        "print(len(X_test))\n",
        "print(len(Y_train))\n",
        "print(len(Y_val))\n",
        "print(len(Y_test))"
      ],
      "execution_count": 65,
      "outputs": [
        {
          "output_type": "stream",
          "text": [
            "1080\n",
            "360\n",
            "361\n",
            "1080\n",
            "360\n",
            "361\n"
          ],
          "name": "stdout"
        }
      ]
    },
    {
      "cell_type": "code",
      "metadata": {
        "id": "XOjiug-_Cg_w",
        "colab_type": "code",
        "colab": {}
      },
      "source": [
        "Y_train_bound = np.where(Y_train == 0, False, True)\n",
        "Y_val_bound = np.where(Y_val == 0, False, True)\n",
        "Y_test_bound = np.where(Y_test == 0, False, True)"
      ],
      "execution_count": 66,
      "outputs": []
    },
    {
      "cell_type": "code",
      "metadata": {
        "id": "achIW7LSCg_8",
        "colab_type": "code",
        "colab": {
          "base_uri": "https://localhost:8080/",
          "height": 110
        },
        "outputId": "7c68ad70-0193-4136-9e75-fde14f72225a"
      },
      "source": [
        "# weights\n",
        "\n",
        "from sklearn.utils import class_weight\n",
        "\n",
        "labels = np.array([True, False])\n",
        "\n",
        "weights = class_weight.compute_class_weight('balanced', labels, Y_train_bound.reshape(-1))\n",
        "\n",
        "\n",
        "pd.DataFrame({\n",
        "    \"Train\": pd.Series(Y_train_bound[:,0]).value_counts() ,\n",
        "    \"Dev\": pd.Series(Y_val_bound[:,0]).value_counts() ,\n",
        "    \"Test\": pd.Series(Y_test_bound[:,0]).value_counts() ,\n",
        "    \"weights\": weights\n",
        "}) "
      ],
      "execution_count": 67,
      "outputs": [
        {
          "output_type": "execute_result",
          "data": {
            "text/html": [
              "<div>\n",
              "<style scoped>\n",
              "    .dataframe tbody tr th:only-of-type {\n",
              "        vertical-align: middle;\n",
              "    }\n",
              "\n",
              "    .dataframe tbody tr th {\n",
              "        vertical-align: top;\n",
              "    }\n",
              "\n",
              "    .dataframe thead th {\n",
              "        text-align: right;\n",
              "    }\n",
              "</style>\n",
              "<table border=\"1\" class=\"dataframe\">\n",
              "  <thead>\n",
              "    <tr style=\"text-align: right;\">\n",
              "      <th></th>\n",
              "      <th>Train</th>\n",
              "      <th>Dev</th>\n",
              "      <th>Test</th>\n",
              "      <th>weights</th>\n",
              "    </tr>\n",
              "  </thead>\n",
              "  <tbody>\n",
              "    <tr>\n",
              "      <th>False</th>\n",
              "      <td>544</td>\n",
              "      <td>174</td>\n",
              "      <td>183</td>\n",
              "      <td>1.007463</td>\n",
              "    </tr>\n",
              "    <tr>\n",
              "      <th>True</th>\n",
              "      <td>536</td>\n",
              "      <td>186</td>\n",
              "      <td>178</td>\n",
              "      <td>0.992647</td>\n",
              "    </tr>\n",
              "  </tbody>\n",
              "</table>\n",
              "</div>"
            ],
            "text/plain": [
              "       Train  Dev  Test   weights\n",
              "False    544  174   183  1.007463\n",
              "True     536  186   178  0.992647"
            ]
          },
          "metadata": {
            "tags": []
          },
          "execution_count": 67
        }
      ]
    },
    {
      "cell_type": "code",
      "metadata": {
        "id": "CSw6nYEmMFVt",
        "colab_type": "code",
        "colab": {}
      },
      "source": [
        "#DEFAULT LEARNİNG RATE: 0.001\n",
        "def define_Log_name(name1):\n",
        "\n",
        "  #log_dir=\"logs\\\\model\"+ name1\n",
        "  log_dir=\"logs/fit/\" + name1\n",
        "  tensorboard1 = TensorBoard(log_dir, histogram_freq=1, profile_batch = 100000000)# , update_freq=\"epoch\",\n",
        "  return tensorboard1"
      ],
      "execution_count": 68,
      "outputs": []
    },
    {
      "cell_type": "code",
      "metadata": {
        "id": "KnCIL16znUNu",
        "colab_type": "code",
        "colab": {}
      },
      "source": [
        "from tensorflow.keras import regularizers\n",
        "\n",
        "\n",
        "def create_model_3():\n",
        "\n",
        "\n",
        "    input_trace3 = Input(shape=(hp[\"traceLength\"],1), dtype='float32', name='input')\n",
        "\n",
        "\n",
        "\n",
        "    x3 = Conv1D(64, 5, padding=\"same\")(input_trace3)\n",
        "    x3 = BatchNormalization(axis=1)(x3)\n",
        "    x3 = Activation('relu')(x3)\n",
        "    x3 = Conv1D(64, 5, padding=\"same\")(x3)\n",
        "    x3 = BatchNormalization(axis=1)(x3) \n",
        "    x3 = Activation('relu')(x3)\n",
        "    x3 = MaxPooling1D(pool_size=3)(x3)\n",
        "    x3 = Dropout(0.25)(x3)\n",
        "\n",
        "\n",
        "    #commented out\n",
        "    x3 = Conv1D(64, 3, padding=\"same\")(x3)\n",
        "    x3 = BatchNormalization(axis=1)(x3)\n",
        "    x3 = Activation('relu')(x3)\n",
        "    x3 = Conv1D(64, 3, padding=\"same\")(x3)\n",
        "    x3 = BatchNormalization(axis=1)(x3) \n",
        "    x3 = Activation('relu')(x3)\n",
        "    x3 = MaxPooling1D(pool_size=3)(x3)\n",
        "    x3 = Dropout(0.25)(x3)\n",
        "\n",
        "\n",
        "    x3 = Flatten()(x3)\n",
        "    x3 = Dense(64, activation='relu', kernel_regularizer=regularizers.l1_l2(l1=3e-3, l2=3e-3))(x3)\n",
        "    x3 = Dropout(0.2)(x3)\n",
        "    x3 = Dense(64, activation='relu', kernel_regularizer=regularizers.l1_l2(l1=3e-3, l2=3e-3))(x3)\n",
        "    x3 = Dropout(0.2)(x3)\n",
        "\n",
        "\n",
        "    output_bound3 = Dense(1, activation='sigmoid', name='output_barcode')(x3)\n",
        "\n",
        "    model_3 = Model(inputs=input_trace3, outputs=output_bound3)\n",
        "\n",
        "    model_3.compile(\n",
        "        loss = 'binary_crossentropy',\n",
        "        optimizer = Adam(lr= 9*(10**(-4))),\n",
        "        metrics = ['accuracy', keras.metrics.Precision(), keras.metrics.Recall()]\n",
        "    )\n",
        "    return model_3    \n",
        "\n",
        "\n"
      ],
      "execution_count": 69,
      "outputs": []
    },
    {
      "cell_type": "code",
      "metadata": {
        "id": "SU1Cy8KEU1SZ",
        "colab_type": "code",
        "colab": {}
      },
      "source": [
        "# Main training method\n",
        "keras.backend.clear_session()\n",
        "\n",
        "lr = 9*(10**(-4))\n",
        "\n",
        "\n",
        "model3 = create_model_3()\n",
        "defineName = \"/tsr_m=0.07-2.DNN-Bound-NEW-\"\n",
        "tensorboard = define_Log_name(defineName)\n",
        "\n",
        "\n",
        "\n",
        "shapeX = (-1, hp[\"traceLength\"],1); \n",
        "shapeY = (-1, 1);\n",
        "\n",
        "early_stopping = keras.callbacks.EarlyStopping(patience=50)\n",
        "\n",
        "\n",
        "    # data augmentation\n",
        "X = np.repeat(X_train, 1, axis=0) # make copies\n",
        "Y = np.repeat(Y_train, 1, axis=0)\n",
        "Valx = np.repeat(X_val, 1, axis=0) # make copies\n",
        "Valy = np.repeat(Y_val, 1, axis=0)\n",
        "\n",
        "for n in range(0,500):\n",
        "    print(\"=== Epoch:\", n,\"===\")\n",
        "    start_time = time.time()\n",
        "\n",
        "    # Learning rate decay\n",
        "    #lr = lr*0.98\n",
        "    #model3.optimizer.lr.assign(lr)\n",
        "    preparation_time = time.time() - start_time\n",
        "    \n",
        "    global out_history\n",
        "    \n",
        "\n",
        "\n",
        "    # Fit the model\n",
        "    out_history = model3.fit( \n",
        "        x = X.reshape(shapeX), \n",
        "        y = Y.reshape(shapeY), \n",
        "        batch_size=32, \n",
        "        shuffle = True,\n",
        "        initial_epoch = n,  \n",
        "        epochs=n+1,\n",
        "        #class_weight = weights,\n",
        "        validation_data=(Valx.reshape(shapeX),  Valy.reshape(shapeY)),\n",
        "        callbacks = [tensorboard, early_stopping],\n",
        "        verbose = 1\n",
        "    )\n",
        "    training_time = time.time() - start_time - preparation_time\n",
        "    \n",
        "    # Feedback \n",
        "    print('  prep time: %3.1f sec' % preparation_time, \n",
        "          '  train time: %3.1f sec' % training_time)\n",
        "    print('  loss: %5.3f' % out_history.history['loss'][0] ,\n",
        "          '  acc: %5.4f' % out_history.history['accuracy'][0] ,\n",
        "        '  val_accuracy: %5.4f' % out_history.history['val_accuracy'][0],\n",
        "        '  val_loss: %5.4f' % out_history.history['val_loss'][0] ,\n",
        "    )\n",
        "\n",
        "\n",
        "\n"
      ],
      "execution_count": null,
      "outputs": []
    },
    {
      "cell_type": "code",
      "metadata": {
        "id": "_y6lWi9ruIRT",
        "colab_type": "code",
        "colab": {}
      },
      "source": [
        "%load_ext tensorboard\n",
        "%tensorboard --logdir logs  "
      ],
      "execution_count": null,
      "outputs": []
    },
    {
      "cell_type": "code",
      "metadata": {
        "id": "UXdBIf9LChAp",
        "colab_type": "code",
        "colab": {}
      },
      "source": [
        "  #model.save(\"/home/kmisiunas/Documents/Quipu/models/binding_metric971_2018-04-03_no1.h5\")"
      ],
      "execution_count": null,
      "outputs": []
    },
    {
      "cell_type": "code",
      "metadata": {
        "id": "VA6Ci1FFChAr",
        "colab_type": "code",
        "colab": {
          "base_uri": "https://localhost:8080/",
          "height": 34
        },
        "outputId": "051810bb-0d3b-4c05-c0b1-fc9e9bfef965"
      },
      "source": [
        "# Measure evaluation speed\n",
        "t0 = time.time()\n",
        "model3.evaluate(x = X_val.reshape(shapeX),   y = Y_val,   verbose=False) \n",
        "dt = time.time() - t0\n",
        "print(\"Evaluation speed: {:.2f} traces/s \".format(len(X_val) /dt))\n"
      ],
      "execution_count": null,
      "outputs": [
        {
          "output_type": "stream",
          "text": [
            "Evaluation speed: 1807.65 traces/s \n"
          ],
          "name": "stdout"
        }
      ]
    },
    {
      "cell_type": "code",
      "metadata": {
        "id": "24BB4xVEChAu",
        "colab_type": "code",
        "colab": {
          "base_uri": "https://localhost:8080/",
          "height": 86
        },
        "outputId": "73d3ee28-060b-43e0-b256-aa98cc99c472"
      },
      "source": [
        "print(\"loss:, acc:, precision_acc:, recall_acc:\")\n",
        "print(\"Train:\", model3.evaluate(x = X_train.reshape(shapeX), y = Y_train_bound, verbose = False) )\n",
        "print(\"Dev  :\", model3.evaluate(x = X_val.reshape(shapeX),   y = Y_val_bound,   verbose = False) )\n",
        "print(\"Test :\", model3.evaluate(x = X_test.reshape(shapeX),  y = Y_test_bound,  verbose = False) )\n"
      ],
      "execution_count": 72,
      "outputs": [
        {
          "output_type": "stream",
          "text": [
            "loss:, acc:, precision_acc:, recall_acc:\n",
            "Train: [0.25069743394851685, 0.9962962865829468, 0.9981273412704468, 0.9944030046463013]\n",
            "Dev  : [0.39770767092704773, 0.9583333134651184, 0.9621621370315552, 0.9569892287254333]\n",
            "Test : [0.5053476691246033, 0.9390581846237183, 0.9534883499145508, 0.9213483333587646]\n"
          ],
          "name": "stdout"
        }
      ]
    },
    {
      "cell_type": "code",
      "metadata": {
        "id": "UVm2EvpyzpjZ",
        "colab_type": "code",
        "colab": {
          "base_uri": "https://localhost:8080/",
          "height": 34
        },
        "outputId": "d11a60ba-1ebc-4315-cb2d-289fa9c101d6"
      },
      "source": [
        "print(out_history.history.keys())"
      ],
      "execution_count": null,
      "outputs": [
        {
          "output_type": "stream",
          "text": [
            "dict_keys(['val_loss', 'val_accuracy', 'val_precision_1', 'val_recall_1', 'loss', 'accuracy', 'precision_1', 'recall_1'])\n"
          ],
          "name": "stdout"
        }
      ]
    },
    {
      "cell_type": "code",
      "metadata": {
        "id": "I9SFokVbzpYM",
        "colab_type": "code",
        "colab": {
          "base_uri": "https://localhost:8080/",
          "height": 281
        },
        "outputId": "fcee8331-9f4b-4b6a-aa8c-fe1e3fa3942a"
      },
      "source": [
        "tsr_m = [0.01, 0.02, 0.03, 0.04, 0.05, 0.06, 0.07, 0.08]\n",
        "accuracy_DNN1_train = [0.5032, 0.9553, 0.9851, 0.9737, 0.9815, 0.9803, 0.9808, 0.9815]\n",
        "accuracy_DNN1_validation = [0.4931, 0.7583, 0.8954, 0.9424, 0.9452, 0.9802, 0.9806, 0.9811]\n",
        "accuracy_DNN1_test = [0.4986, 0.7479, 0.8975, 0.9196, 0.9445, 0.9359, 0.9556, 0.9555]\n",
        "\n",
        "lines = pyplot.plot(tsr_m, accuracy_DNN1_test, 'g', tsr_m, accuracy_DNN1_validation, 'b', tsr_m, accuracy_DNN1_train, 'r')\n",
        "\n",
        "pyplot.setp(lines[0], linewidth=2)\n",
        "pyplot.setp(lines[1], linewidth=2)\n",
        "pyplot.setp(lines[2], linewidth=2)\n",
        "pyplot.legend(('DNN1_test','DNN1_validation','DNN1_train'), loc='lower right')\n",
        "\n",
        "pyplot.title('1.Deep Neural Network')\n",
        "\n",
        "axes = pyplot.gca()\n",
        "axes.set_xlim([0.01, 0.08])\n",
        "axes.set_ylim([0, 1.00])\n",
        "\n",
        "pyplot.show()"
      ],
      "execution_count": 77,
      "outputs": [
        {
          "output_type": "display_data",
          "data": {
            "image/png": "[encoded data removed]",
            "text/plain": [
              "<Figure size 432x288 with 1 Axes>"
            ]
          },
          "metadata": {
            "tags": [],
            "needs_background": "light"
          }
        }
      ]
    },
    {
      "cell_type": "code",
      "metadata": {
        "id": "rkYcYoDPUh_M",
        "colab_type": "code",
        "colab": {
          "base_uri": "https://localhost:8080/",
          "height": 281
        },
        "outputId": "46ea7889-2ced-4e2b-9c56-90bb59b933d1"
      },
      "source": [
        "tsr_m = [0.01, 0.02, 0.03, 0.04, 0.05, 0.06, 0.07, 0.08]\n",
        "accuracy_DNN2_train = [0.5125, 0.9843, 0.9801, 0.9944, 0.9873, 0.9938, 0.9913, 0.9972]\n",
        "accuracy_DNN2_validation = [0.4931, 0.7355, 0.8862, 0.8975, 0.9321, 0.9413, 0.9505, 0.9733]\n",
        "accuracy_DNN2_test = [0.4986, 0.7396, 0.9058, 0.8947, 0.9252, 0.9442, 0.9390, 0.9805]\n",
        "\n",
        "lines = pyplot.plot(tsr_m, accuracy_DNN2_test, 'g', tsr_m, accuracy_DNN2_validation, 'b', tsr_m, accuracy_DNN2_train, 'r')\n",
        "\n",
        "pyplot.setp(lines[0], linewidth=2)\n",
        "pyplot.setp(lines[1], linewidth=2)\n",
        "pyplot.setp(lines[2], linewidth=2)\n",
        "pyplot.legend(('DNN2_test','DNN2_validation','DNN2_train'), loc='lower right')\n",
        "\n",
        "pyplot.title('2.Deep Neural Network')\n",
        "\n",
        "axes = pyplot.gca()\n",
        "axes.set_xlim([0.01, 0.08])\n",
        "axes.set_ylim([0, 1.00])\n",
        "\n",
        "pyplot.show()"
      ],
      "execution_count": 81,
      "outputs": [
        {
          "output_type": "display_data",
          "data": {
            "image/png": "[encoded data removed]",
            "text/plain": [
              "<Figure size 432x288 with 1 Axes>"
            ]
          },
          "metadata": {
            "tags": [],
            "needs_background": "light"
          }
        }
      ]
    },
    {
      "cell_type": "code",
      "metadata": {
        "id": "zQKnvb5mXDKC",
        "colab_type": "code",
        "colab": {}
      },
      "source": [
        ""
      ],
      "execution_count": null,
      "outputs": []
    }
  ]
}