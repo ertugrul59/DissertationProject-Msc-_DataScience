{
  "nbformat": 4,
  "nbformat_minor": 0,
  "metadata": {
    "kernelspec": {
      "display_name": "Python 3",
      "language": "python",
      "name": "python3"
    },
    "language_info": {
      "codemirror_mode": {
        "name": "ipython",
        "version": 3
      },
      "file_extension": ".py",
      "mimetype": "text/x-python",
      "name": "python",
      "nbconvert_exporter": "python",
      "pygments_lexer": "ipython3",
      "version": "3.7.4"
    },
    "colab": {
      "name": "TryForProject.ipynb",
      "provenance": [],
      "collapsed_sections": []
    },
    "accelerator": "GPU"
  },
  "cells": [
    {
      "cell_type": "code",
      "metadata": {
        "id": "VNedNeLBJMHz",
        "colab_type": "code",
        "colab": {}
      },
      "source": [
        "from google.colab import drive\n",
        "drive.mount('/content/drive/')"
      ],
      "execution_count": null,
      "outputs": []
    },
    {
      "cell_type": "code",
      "metadata": {
        "id": "YsHk2s2qJPmb",
        "colab_type": "code",
        "colab": {}
      },
      "source": [
        "import sys\n",
        "\n",
        "sys.path.append('/content/drive/My Drive/Msc. Project Files/BoundCNN/')\n"
      ],
      "execution_count": null,
      "outputs": []
    },
    {
      "cell_type": "code",
      "metadata": {
        "id": "ehkRid-MOFt_",
        "colab_type": "code",
        "colab": {}
      },
      "source": [
        "import numpy as np\n",
        "import matplotlib.pyplot as plt\n",
        "import pandas as pd\n",
        "from scipy.io import loadmat\n",
        "from tensorflow.python.client import device_lib\n",
        "import tensorflow as tf\n",
        "from sklearn import svm\n",
        "from itertools import product\n",
        "from sklearn.tree import DecisionTreeClassifier\n",
        "from sklearn.ensemble import VotingClassifier\n",
        "from sklearn.neighbors import KNeighborsClassifier\n",
        "from sklearn.svm import SVC\n",
        "\n",
        "\n",
        "tf.test.gpu_device_name()\n",
        "print(device_lib.list_local_devices())"
      ],
      "execution_count": null,
      "outputs": []
    },
    {
      "cell_type": "code",
      "metadata": {
        "id": "meqRTi1vJZ7u",
        "colab_type": "code",
        "colab": {}
      },
      "source": [
        "x1 = loadmat('/content/drive/My Drive/Msc. Project Files/BoundCNN/data/0.01-Unbound/1-translocsimu-tsr_m=0.01-Unbound_1.mat')\n",
        "x2 = loadmat('/content/drive/My Drive/Msc. Project Files/BoundCNN/data/0.01-Unbound/2-translocsimu-tsr_m=0.01-Unbound_1.mat')\n",
        "x3 = loadmat('/content/drive/My Drive/Msc. Project Files/BoundCNN/data/0.01-Unbound/3-translocsimu-tsr_m=0.01-Unbound_1.mat')\n",
        "x4 = loadmat('/content/drive/My Drive/Msc. Project Files/BoundCNN/data/0.01-Unbound/4-translocsimu-tsr_m=0.01-Unbound_1.mat')\n",
        "x5 = loadmat('/content/drive/My Drive/Msc. Project Files/BoundCNN/data/0.01-Unbound/5-translocsimu-tsr_m=0.01-Unbound_1.mat')\n",
        "x6 = loadmat('/content/drive/My Drive/Msc. Project Files/BoundCNN/data/0.01-Unbound/6-translocsimu-tsr_m=0.01-Unbound_1.mat')\n",
        "x7 = loadmat('/content/drive/My Drive/Msc. Project Files/BoundCNN/data/0.01-Unbound/7-translocsimu-tsr_m=0.01-Unbound_1.mat')\n",
        "x8 = loadmat('/content/drive/My Drive/Msc. Project Files/BoundCNN/data/0.01-Unbound/8-translocsimu-tsr_m=0.01-Unbound_1.mat')\n",
        "x9 = loadmat('/content/drive/My Drive/Msc. Project Files/BoundCNN/data/0.01-Unbound/9-translocsimu-tsr_m=0.01-Unbound_1.mat')\n",
        "x10 = loadmat('/content/drive/My Drive/Msc. Project Files/BoundCNN/data/0.01-Unbound/10-translocsimu-tsr_m=0.01-Unbound_1.mat')\n",
        "\n",
        "y1 = loadmat('/content/drive/My Drive/Msc. Project Files/BoundCNN/data/0.08/1-translocsimu-tsr_m=0.08-Bound_1.mat')\n",
        "y2 = loadmat('/content/drive/My Drive/Msc. Project Files/BoundCNN/data/0.08/2-translocsimu-tsr_m=0.08-Bound_1.mat')\n",
        "y3 = loadmat('/content/drive/My Drive/Msc. Project Files/BoundCNN/data/0.08/3-translocsimu-tsr_m=0.08-Bound_1.mat')\n",
        "y4 = loadmat('/content/drive/My Drive/Msc. Project Files/BoundCNN/data/0.08/4-translocsimu-tsr_m=0.08-Bound_1.mat')\n",
        "y5 = loadmat('/content/drive/My Drive/Msc. Project Files/BoundCNN/data/0.08/5-translocsimu-tsr_m=0.08-Bound_1.mat')\n",
        "y6 = loadmat('/content/drive/My Drive/Msc. Project Files/BoundCNN/data/0.08/6-translocsimu-tsr_m=0.08-Bound_1.mat')\n",
        "y7 = loadmat('/content/drive/My Drive/Msc. Project Files/BoundCNN/data/0.08/7-translocsimu-tsr_m=0.08-Bound_1.mat')\n",
        "y8 = loadmat('/content/drive/My Drive/Msc. Project Files/BoundCNN/data/0.08/8-translocsimu-tsr_m=0.08-Bound_1.mat')\n",
        "y9 = loadmat('/content/drive/My Drive/Msc. Project Files/BoundCNN/data/0.08/9-translocsimu-tsr_m=0.08-Bound_1.mat')\n",
        "y10 = loadmat('/content/drive/My Drive/Msc. Project Files/BoundCNN/data/0.08/10-translocsimu-tsr_m=0.08-Bound_1.mat')\n",
        "\n"
      ],
      "execution_count": null,
      "outputs": []
    },
    {
      "cell_type": "code",
      "metadata": {
        "id": "mngwY8VzdCB2",
        "colab_type": "code",
        "colab": {}
      },
      "source": [
        "x1 = loadmat('/content/drive/My Drive/Msc. Project Files/BoundCNN/data/Is_m/6e-11/1-translocsimu-tsr_m=0.01-Is_m=6e-11-Bound_1.mat')\n",
        "x2 = loadmat('/content/drive/My Drive/Msc. Project Files/BoundCNN/data/Is_m/6e-11/2-translocsimu-tsr_m=0.01-Is_m=6e-11-Bound_1.mat')\n",
        "x3 = loadmat('/content/drive/My Drive/Msc. Project Files/BoundCNN/data/Is_m/6e-11/3-translocsimu-tsr_m=0.01-Is_m=6e-11-Bound_1.mat')\n",
        "x4 = loadmat('/content/drive/My Drive/Msc. Project Files/BoundCNN/data/Is_m/6e-11/4-translocsimu-tsr_m=0.01-Is_m=6e-11-Bound_1.mat')\n",
        "x5 = loadmat('/content/drive/My Drive/Msc. Project Files/BoundCNN/data/Is_m/6e-11/5-translocsimu-tsr_m=0.01-Is_m=6e-11-Bound_1.mat')\n",
        "x6 = loadmat('/content/drive/My Drive/Msc. Project Files/BoundCNN/data/Is_m/6e-11/6-translocsimu-tsr_m=0.01-Is_m=6e-11-Bound_1.mat')\n",
        "x7 = loadmat('/content/drive/My Drive/Msc. Project Files/BoundCNN/data/Is_m/6e-11/7-translocsimu-tsr_m=0.01-Is_m=6e-11-Bound_1.mat')\n",
        "x8 = loadmat('/content/drive/My Drive/Msc. Project Files/BoundCNN/data/Is_m/6e-11/8-translocsimu-tsr_m=0.01-Is_m=6e-11-Bound_1.mat')\n",
        "x9 = loadmat('/content/drive/My Drive/Msc. Project Files/BoundCNN/data/Is_m/6e-11/9-translocsimu-tsr_m=0.01-Is_m=6e-11-Bound_1.mat')\n",
        "x10 = loadmat('/content/drive/My Drive/Msc. Project Files/BoundCNN/data/Is_m/6e-11/10-translocsimu-tsr_m=0.01-Is_m=6e-11-Bound_1.mat')\n",
        "\n",
        "y1 = loadmat('/content/drive/My Drive/Msc. Project Files/BoundCNN/data/Is_m/15e-11/1-translocsimu-tsr_m=0.01-Is_m=15e-11-Bound_1.mat')\n",
        "y2 = loadmat('/content/drive/My Drive/Msc. Project Files/BoundCNN/data/Is_m/15e-11/2-translocsimu-tsr_m=0.01-Is_m=15e-11-Bound_1.mat')\n",
        "y3 = loadmat('/content/drive/My Drive/Msc. Project Files/BoundCNN/data/Is_m/15e-11/3-translocsimu-tsr_m=0.01-Is_m=15e-11-Bound_1.mat')\n",
        "y4 = loadmat('/content/drive/My Drive/Msc. Project Files/BoundCNN/data/Is_m/15e-11/4-translocsimu-tsr_m=0.01-Is_m=15e-11-Bound_1.mat')\n",
        "y5 = loadmat('/content/drive/My Drive/Msc. Project Files/BoundCNN/data/Is_m/15e-11/5-translocsimu-tsr_m=0.01-Is_m=15e-11-Bound_1.mat')\n",
        "y6 = loadmat('/content/drive/My Drive/Msc. Project Files/BoundCNN/data/Is_m/15e-11/6-translocsimu-tsr_m=0.01-Is_m=15e-11-Bound_1.mat')\n",
        "y7 = loadmat('/content/drive/My Drive/Msc. Project Files/BoundCNN/data/Is_m/15e-11/7-translocsimu-tsr_m=0.01-Is_m=15e-11-Bound_1.mat')\n",
        "y8 = loadmat('/content/drive/My Drive/Msc. Project Files/BoundCNN/data/Is_m/15e-11/8-translocsimu-tsr_m=0.01-Is_m=15e-11-Bound_1.mat')\n",
        "y9 = loadmat('/content/drive/My Drive/Msc. Project Files/BoundCNN/data/Is_m/15e-11/9-translocsimu-tsr_m=0.01-Is_m=15e-11-Bound_1.mat')\n",
        "y10 = loadmat('/content/drive/My Drive/Msc. Project Files/BoundCNN/data/Is_m/15e-11/10-translocsimu-tsr_m=0.01-Is_m=15e-11-Bound_1.mat')"
      ],
      "execution_count": null,
      "outputs": []
    },
    {
      "cell_type": "code",
      "metadata": {
        "id": "rryodRh5OPoO",
        "colab_type": "code",
        "colab": {}
      },
      "source": [
        "ch2_Unbound1 = x1['ch2']\n",
        "ch2_Unbound2 = x2['ch2']\n",
        "ch2_Unbound3 = x3['ch2']\n",
        "ch2_Unbound4 = x4['ch2']\n",
        "ch2_Unbound5 = x5['ch2']\n",
        "ch2_Unbound6 = x6['ch2']\n",
        "ch2_Unbound7 = x7['ch2']\n",
        "ch2_Unbound8 = x8['ch2']\n",
        "ch2_Unbound9 = x9['ch2']\n",
        "ch2_Unbound10 = x10['ch2']\n",
        "\n",
        "ch2_Bound1 = y1['ch2']\n",
        "ch2_Bound2 = y2['ch2']\n",
        "ch2_Bound3 = y3['ch2']\n",
        "ch2_Bound4 = y4['ch2']\n",
        "ch2_Bound5 = y5['ch2']\n",
        "ch2_Bound6 = y6['ch2']\n",
        "ch2_Bound7 = y7['ch2']\n",
        "ch2_Bound8 = y8['ch2']\n",
        "ch2_Bound9 = y9['ch2']\n",
        "ch2_Bound10 = y10['ch2']\n"
      ],
      "execution_count": null,
      "outputs": []
    },
    {
      "cell_type": "code",
      "metadata": {
        "id": "cBxIfpXaN_6r",
        "colab_type": "code",
        "colab": {}
      },
      "source": [
        "ch2_Unbound = np.concatenate((ch2_Unbound1, ch2_Unbound2, ch2_Unbound3, ch2_Unbound4, ch2_Unbound5, ch2_Unbound6, ch2_Unbound7, ch2_Unbound8, ch2_Unbound9, ch2_Unbound10), axis=0)"
      ],
      "execution_count": null,
      "outputs": []
    },
    {
      "cell_type": "code",
      "metadata": {
        "id": "yJKOHTzuOAWm",
        "colab_type": "code",
        "colab": {}
      },
      "source": [
        "ch2_Bound = np.concatenate((ch2_Bound1, ch2_Bound2, ch2_Bound3, ch2_Bound4, ch2_Bound5, ch2_Bound6, ch2_Bound7, ch2_Bound8, ch2_Bound9, ch2_Bound10), axis=0)"
      ],
      "execution_count": null,
      "outputs": []
    },
    {
      "cell_type": "code",
      "metadata": {
        "id": "2QY_ZiOnJI9_",
        "colab_type": "code",
        "colab": {}
      },
      "source": [
        "ch2_Bound = ch2_Bound[ch2_Bound[:] > 0.5*pow(10, -10)] \n",
        "ch2_Unbound = ch2_Unbound[ch2_Unbound[:] > 0.5*pow(10, -10)] "
      ],
      "execution_count": null,
      "outputs": []
    },
    {
      "cell_type": "code",
      "metadata": {
        "id": "5nHorfn8RAZl",
        "colab_type": "code",
        "colab": {
          "base_uri": "https://localhost:8080/",
          "height": 52
        },
        "outputId": "9d9d159e-d75a-486b-f4f8-b49877eef51f"
      },
      "source": [
        "print(len(ch2_Bound))\n",
        "print(len(ch2_Unbound))"
      ],
      "execution_count": null,
      "outputs": [
        {
          "output_type": "stream",
          "text": [
            "99758\n",
            "99898\n"
          ],
          "name": "stdout"
        }
      ]
    },
    {
      "cell_type": "code",
      "metadata": {
        "id": "kQcY6gNvJI-N",
        "colab_type": "code",
        "colab": {
          "base_uri": "https://localhost:8080/",
          "height": 277
        },
        "outputId": "29a1c33c-2041-41ad-b122-356db0223e00"
      },
      "source": [
        "yUnbound = np.zeros(99898)\n",
        "yBound = np.zeros(99758)\n",
        "\n",
        "plt.plot(ch2_Unbound,yUnbound,'r.')\n",
        "plt.plot(ch2_Bound,yBound,'b.')\n",
        "\n",
        "#axes = plt.gca()\n",
        "#axes.set_xlim([-0.00000000004,0.0000000002])\n",
        "#axes.set_ylim([-0.00000000001,0.00000000001])\n",
        "plt.show()"
      ],
      "execution_count": null,
      "outputs": [
        {
          "output_type": "display_data",
          "data": {
            "image/png": "[encoded data removed]",
            "text/plain": [
              "<Figure size 432x288 with 1 Axes>"
            ]
          },
          "metadata": {
            "tags": [],
            "needs_background": "light"
          }
        }
      ]
    },
    {
      "cell_type": "code",
      "metadata": {
        "id": "8zfPWbKxJI-s",
        "colab_type": "code",
        "colab": {}
      },
      "source": [
        "TotalDatas = np.concatenate((ch2_Bound, ch2_Unbound), axis=0)"
      ],
      "execution_count": null,
      "outputs": []
    },
    {
      "cell_type": "code",
      "metadata": {
        "id": "3OhXFJEdSP2Y",
        "colab_type": "code",
        "colab": {}
      },
      "source": [
        "y_total00 = np.zeros(len(ch2_Unbound))   \n",
        "y_total11 = np.ones(len(ch2_Bound))  \n",
        "y_total10 = np.concatenate((y_total11, y_total00), axis=0)\n"
      ],
      "execution_count": null,
      "outputs": []
    },
    {
      "cell_type": "code",
      "metadata": {
        "id": "ehBoMcbp16Cx",
        "colab_type": "code",
        "colab": {}
      },
      "source": [
        "y_total10"
      ],
      "execution_count": null,
      "outputs": []
    },
    {
      "cell_type": "code",
      "metadata": {
        "id": "XcTnbqvFJI-w",
        "colab_type": "code",
        "colab": {}
      },
      "source": [
        "from sklearn.model_selection import train_test_split\n",
        "X_train, X_test, y_train, y_test = train_test_split(TotalDatas, y_total10, test_size=0.2)"
      ],
      "execution_count": null,
      "outputs": []
    },
    {
      "cell_type": "code",
      "metadata": {
        "id": "pEOeTwlh1SIa",
        "colab_type": "code",
        "colab": {}
      },
      "source": [
        "X_train -= np.mean(X_train, axis= 0)\n",
        "X_train /= np.std(X_train, axis = 0)\n",
        "\n",
        "X_test -= np.mean(X_test, axis= 0)\n",
        "X_test /= np.std(X_test, axis = 0)"
      ],
      "execution_count": null,
      "outputs": []
    },
    {
      "cell_type": "code",
      "metadata": {
        "id": "vOz0jzCq2B23",
        "colab_type": "code",
        "colab": {
          "base_uri": "https://localhost:8080/",
          "height": 283
        },
        "outputId": "b9963dfe-dba8-4e1b-c779-d8b13191268e"
      },
      "source": [
        "plt.plot(X_train)\n"
      ],
      "execution_count": null,
      "outputs": [
        {
          "output_type": "execute_result",
          "data": {
            "text/plain": [
              "[<matplotlib.lines.Line2D at 0x7fdc1ffddb70>]"
            ]
          },
          "metadata": {
            "tags": []
          },
          "execution_count": 24
        },
        {
          "output_type": "display_data",
          "data": {
            "image/png": "[encoded data removed]",
            "text/plain": [
              "<Figure size 432x288 with 1 Axes>"
            ]
          },
          "metadata": {
            "tags": [],
            "needs_background": "light"
          }
        }
      ]
    },
    {
      "cell_type": "code",
      "metadata": {
        "id": "npmEGZUPJI-3",
        "colab_type": "code",
        "colab": {}
      },
      "source": [
        "X_train = X_train.reshape(-1, 1)"
      ],
      "execution_count": null,
      "outputs": []
    },
    {
      "cell_type": "code",
      "metadata": {
        "id": "rlwVoUYXIhyu",
        "colab_type": "code",
        "colab": {}
      },
      "source": [
        "X_train"
      ],
      "execution_count": null,
      "outputs": []
    },
    {
      "cell_type": "code",
      "metadata": {
        "id": "YXBTpC9pJI_N",
        "colab_type": "code",
        "colab": {}
      },
      "source": [
        "abc = np.c_[ X_train, pow(X_train,2) ]"
      ],
      "execution_count": null,
      "outputs": []
    },
    {
      "cell_type": "code",
      "metadata": {
        "id": "R9kdLpdf28Sn",
        "colab_type": "code",
        "colab": {}
      },
      "source": [
        "abc"
      ],
      "execution_count": null,
      "outputs": []
    },
    {
      "cell_type": "code",
      "metadata": {
        "id": "Qtjf3M-RJI_d",
        "colab_type": "code",
        "colab": {}
      },
      "source": [
        "#Plot the decision boundaries of a VotingClassifier\n",
        "\n",
        "# Copy of input matrices\n",
        "X = abc\n",
        "y = y_train\n",
        "# Training classifiers\n",
        "clfr1 = DecisionTreeClassifier(max_depth=4)\n",
        "clfr2 = KNeighborsClassifier(n_neighbors=7)\n",
        "clfr3 = SVC(kernel='rbf', gamma=4, C=25, probability=True)\n",
        "vclfr = VotingClassifier(estimators=[('dt', clfr1), ('knn', clfr2),('svc', clfr3)],voting='soft', weights=[2, 1, 2])\n",
        "\n",
        "clfr1.fit(X, y)\n",
        "clfr2.fit(X, y)\n",
        "clfr3.fit(X, y)\n",
        "vclrf.fit(X, y)\n",
        "\n",
        "x_min, x_max = X[:, 0].min() - 1, X[:, 0].max() + 1\n",
        "y_min, y_max = X[:, 1].min() - 1, X[:, 1].max() + 1\n",
        "xx, yy = np.meshgrid(np.arange(x_min, x_max, 0.1),\n",
        "                     np.arange(y_min, y_max, 0.1))\n",
        "f, drawingss = plt.subplots(2, 2, sharex='col', sharey='row', figsize=(10, 8))\n",
        "\n",
        "for plot_x, clf, vv in zip(product([0, 1], [0, 1]),\n",
        "                        [clfr1, clfr2, clfr3, vclfr],\n",
        "                        ['Decision Tree (depth=4)', 'KNN (k=7)',\n",
        "                         'Kernel SVM', 'Soft Voting']):\n",
        "\n",
        "    Z = clf.predict(np.c_[xx.ravel(), yy.ravel()])\n",
        "    Z = Z.reshape(xx.shape)\n",
        "\n",
        "    drawingss[plot_x[0], plot_x[1]].contourf(xx, yy, Z, alpha=0.4)\n",
        "    drawingss[plot_x[0], plot_x[1]].scatter(X[:, 0], X[:, 1], c=y, s=20, edgecolor='k')\n",
        "    drawingss[plot_x[0], plot_x[1]].set_title(vv)\n",
        "\n",
        "plt.show()"
      ],
      "execution_count": null,
      "outputs": []
    },
    {
      "cell_type": "code",
      "metadata": {
        "id": "9FnfYy_hJI_m",
        "colab_type": "code",
        "colab": {}
      },
      "source": [
        "print(clfr1.score(X, y))\n",
        "print(clfr2.score(X, y))\n",
        "print(clfr3.score(X, y))\n",
        "print(vclfr.score(X, y))\n"
      ],
      "execution_count": null,
      "outputs": []
    },
    {
      "cell_type": "code",
      "metadata": {
        "id": "d-s6UCkRJJAp",
        "colab_type": "code",
        "colab": {}
      },
      "source": [
        "#SVM-Kernels\n",
        "\n",
        "# Copy of input matrices\n",
        "X = abc\n",
        "Y = y\n",
        "numberss = 1\n",
        "for kernel in ('linear', 'poly', 'rbf'):\n",
        "    clfy = svm.SVC(kernel=kernel, gamma=2)\n",
        "    clfy.fit(X, Y)\n",
        "    j = clfy.score(X, y)\n",
        "    print(j)\n",
        "\n",
        "    plt.figure(numberss, figsize=(4, 3))\n",
        "    plt.clfy()\n",
        "\n",
        "    plt.scatter(clfy.support_vectors_[:, 0], clfy.support_vectors_[:, 1], s=80,\n",
        "                facecolors='none', zorder=10, edgecolors='k')\n",
        "    plt.scatter(X[:, 0], X[:, 1], c=Y, zorder=10, cmap=plt.cm.Paired,\n",
        "                edgecolors='k')\n",
        "    plt.axis('tight')\n",
        "\n",
        "    x_min = -3\n",
        "    x_max = 3\n",
        "    y_min = -3\n",
        "    y_max = 3\n",
        "    aaa, bbb = np.mgrid[x_min:x_max:200j, y_min:y_max:200j]\n",
        "\n",
        "    Z = clfy.decision_function(np.c_[aaa.ravel(), bbb.ravel()])\n",
        "    Z = Z.reshape(aaa.shape)\n",
        "    plt.figure(numberss, figsize=(4, 3))\n",
        "    plt.pcolormesh(aaa, bbb, Z > 0, cmap=plt.cm.Paired)\n",
        "    plt.contour(aaa, bbb, Z, colors=['k', 'k', 'k'], linestyles=['--', '-', '--'],\n",
        "                levels=[-.5, 0, .5])\n",
        "\n",
        "    plt.xlim(x_min, x_max)\n",
        "    plt.ylim(y_min, y_max)\n",
        "\n",
        "    plt.xticks(())\n",
        "    plt.yticks(())\n",
        "    numberss = numberss + 1\n",
        "plt.show()"
      ],
      "execution_count": null,
      "outputs": []
    }
  ]
}
